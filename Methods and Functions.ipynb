{
 "cells": [
  {
   "cell_type": "markdown",
   "id": "895f9b24",
   "metadata": {},
   "source": [
    "# Functions"
   ]
  },
  {
   "cell_type": "code",
   "execution_count": 5,
   "id": "4d2def5b",
   "metadata": {},
   "outputs": [],
   "source": [
    "def say_hello():\n",
    "    '''\n",
    "    This is a multiline comment\n",
    "    '''\n",
    "    print(\"Hello\")\n",
    "    print(\"How are you?\")"
   ]
  },
  {
   "cell_type": "code",
   "execution_count": 6,
   "id": "edb18e73",
   "metadata": {},
   "outputs": [
    {
     "name": "stdout",
     "output_type": "stream",
     "text": [
      "Hello\n",
      "How are you?\n"
     ]
    }
   ],
   "source": [
    "say_hello()"
   ]
  },
  {
   "cell_type": "code",
   "execution_count": 8,
   "id": "8d65cfe7",
   "metadata": {},
   "outputs": [],
   "source": [
    "def say_hello(name):\n",
    "    print(f\"Hello {name}\")"
   ]
  },
  {
   "cell_type": "code",
   "execution_count": 9,
   "id": "9c3f34d6",
   "metadata": {},
   "outputs": [
    {
     "name": "stdout",
     "output_type": "stream",
     "text": [
      "Hello Sutheendran\n"
     ]
    }
   ],
   "source": [
    "say_hello(\"Sutheendran\")"
   ]
  },
  {
   "cell_type": "code",
   "execution_count": 10,
   "id": "afa7e4a7",
   "metadata": {},
   "outputs": [],
   "source": [
    "def say_hello(name=\"Default\"):\n",
    "    print(f\"Hello {name}\")"
   ]
  },
  {
   "cell_type": "code",
   "execution_count": 12,
   "id": "569c9fe4",
   "metadata": {},
   "outputs": [
    {
     "name": "stdout",
     "output_type": "stream",
     "text": [
      "Hello Default\n"
     ]
    }
   ],
   "source": [
    "say_hello() # it will print default value when arguments is not provided"
   ]
  },
  {
   "cell_type": "code",
   "execution_count": 13,
   "id": "5d571579",
   "metadata": {},
   "outputs": [],
   "source": [
    "def add_num(num1,num2):\n",
    "    return num1+num2"
   ]
  },
  {
   "cell_type": "code",
   "execution_count": 15,
   "id": "49deeb84",
   "metadata": {},
   "outputs": [
    {
     "data": {
      "text/plain": [
       "55"
      ]
     },
     "execution_count": 15,
     "metadata": {},
     "output_type": "execute_result"
    }
   ],
   "source": [
    "add_num(25,30)"
   ]
  },
  {
   "cell_type": "code",
   "execution_count": 18,
   "id": "d3aa0f10",
   "metadata": {},
   "outputs": [],
   "source": [
    "def sum_result(a,b):\n",
    "    print(a+b) #This will just print the result and will not store the value"
   ]
  },
  {
   "cell_type": "code",
   "execution_count": 20,
   "id": "b17c3077",
   "metadata": {},
   "outputs": [
    {
     "name": "stdout",
     "output_type": "stream",
     "text": [
      "30\n"
     ]
    }
   ],
   "source": [
    "result = sum_result(10,20)"
   ]
  },
  {
   "cell_type": "code",
   "execution_count": 22,
   "id": "6091e248",
   "metadata": {},
   "outputs": [],
   "source": [
    "result"
   ]
  },
  {
   "cell_type": "code",
   "execution_count": 23,
   "id": "d2a8ae2a",
   "metadata": {},
   "outputs": [
    {
     "data": {
      "text/plain": [
       "NoneType"
      ]
     },
     "execution_count": 23,
     "metadata": {},
     "output_type": "execute_result"
    }
   ],
   "source": [
    "type(result)"
   ]
  },
  {
   "cell_type": "code",
   "execution_count": 24,
   "id": "00e39b46",
   "metadata": {},
   "outputs": [],
   "source": [
    "def return_result(a,b):\n",
    "    return a+b"
   ]
  },
  {
   "cell_type": "code",
   "execution_count": 25,
   "id": "bda19ec3",
   "metadata": {},
   "outputs": [],
   "source": [
    "result = return_result(10,20)"
   ]
  },
  {
   "cell_type": "code",
   "execution_count": 26,
   "id": "e156f7f4",
   "metadata": {},
   "outputs": [
    {
     "data": {
      "text/plain": [
       "30"
      ]
     },
     "execution_count": 26,
     "metadata": {},
     "output_type": "execute_result"
    }
   ],
   "source": [
    "result"
   ]
  },
  {
   "cell_type": "code",
   "execution_count": 27,
   "id": "974238f1",
   "metadata": {},
   "outputs": [],
   "source": [
    "def sum_result(a,b):\n",
    "    print(a+b)\n",
    "    return a+b"
   ]
  },
  {
   "cell_type": "code",
   "execution_count": 28,
   "id": "b07ae46c",
   "metadata": {},
   "outputs": [
    {
     "name": "stdout",
     "output_type": "stream",
     "text": [
      "30\n"
     ]
    }
   ],
   "source": [
    "result = sum_result(10,20)"
   ]
  },
  {
   "cell_type": "code",
   "execution_count": 29,
   "id": "5d6ecf94",
   "metadata": {},
   "outputs": [
    {
     "data": {
      "text/plain": [
       "30"
      ]
     },
     "execution_count": 29,
     "metadata": {},
     "output_type": "execute_result"
    }
   ],
   "source": [
    "result"
   ]
  },
  {
   "cell_type": "code",
   "execution_count": 30,
   "id": "598adbb5",
   "metadata": {},
   "outputs": [],
   "source": [
    "def even_checking(num):\n",
    "    if (num % 2) == 0:\n",
    "        print(\"Number is even\")\n",
    "    else:\n",
    "        print(\"Number is odd\")"
   ]
  },
  {
   "cell_type": "code",
   "execution_count": 31,
   "id": "b20ad3b8",
   "metadata": {},
   "outputs": [
    {
     "name": "stdout",
     "output_type": "stream",
     "text": [
      "Number is even\n"
     ]
    }
   ],
   "source": [
    "even_checking(2)"
   ]
  },
  {
   "cell_type": "code",
   "execution_count": 37,
   "id": "d1ca6721",
   "metadata": {},
   "outputs": [],
   "source": [
    "def check_even_list():\n",
    "    my_list = [1,2,3,4,5,6,7,8,9]\n",
    "    for num in my_list:\n",
    "        if(num % 2 == 0):\n",
    "            print(\"Even\")\n",
    "        else:\n",
    "            print(\"Odd\")"
   ]
  },
  {
   "cell_type": "code",
   "execution_count": 38,
   "id": "21eabd16",
   "metadata": {},
   "outputs": [
    {
     "name": "stdout",
     "output_type": "stream",
     "text": [
      "Odd\n",
      "Even\n",
      "Odd\n",
      "Even\n",
      "Odd\n",
      "Even\n",
      "Odd\n",
      "Even\n",
      "Odd\n"
     ]
    }
   ],
   "source": [
    "check_even_list()"
   ]
  },
  {
   "cell_type": "code",
   "execution_count": 39,
   "id": "bac508bc",
   "metadata": {},
   "outputs": [],
   "source": [
    "def check_even(num_list):\n",
    "    for num in num_list:\n",
    "        if (num%2 == 0):\n",
    "            print(\"Even\")\n",
    "        else:\n",
    "            print(\"Odd\")"
   ]
  },
  {
   "cell_type": "code",
   "execution_count": 40,
   "id": "afd7815f",
   "metadata": {},
   "outputs": [
    {
     "name": "stdout",
     "output_type": "stream",
     "text": [
      "Odd\n",
      "Even\n",
      "Odd\n",
      "Even\n",
      "Odd\n",
      "Even\n"
     ]
    }
   ],
   "source": [
    "check_even([1,2,3,4,5,6])"
   ]
  },
  {
   "cell_type": "code",
   "execution_count": 44,
   "id": "cca2afb1",
   "metadata": {},
   "outputs": [],
   "source": [
    "def check_even(num_list):\n",
    "    even_numbers= []\n",
    "    for num in num_list:\n",
    "        if (num%2 == 0):\n",
    "            even_numbers.append(num)\n",
    "        else:\n",
    "            pass\n",
    "    return even_numbers"
   ]
  },
  {
   "cell_type": "code",
   "execution_count": 45,
   "id": "258a87a0",
   "metadata": {},
   "outputs": [
    {
     "data": {
      "text/plain": [
       "[2, 4, 6, 8]"
      ]
     },
     "execution_count": 45,
     "metadata": {},
     "output_type": "execute_result"
    }
   ],
   "source": [
    "check_even([1,2,3,4,5,6,7,8])"
   ]
  },
  {
   "cell_type": "code",
   "execution_count": 46,
   "id": "981487fc",
   "metadata": {},
   "outputs": [],
   "source": [
    "work_hrs = [(\"John\", 200), (\"Smith\", 350), (\"Paul\", 500)]\n",
    "\n",
    "def employee_check(work_hrs):\n",
    "    \n",
    "    current_max = 0;\n",
    "    employee_of_month = ' '\n",
    "    \n",
    "    for employee, hrs in work_hrs:\n",
    "        if(hrs > current_max):\n",
    "            current_max = hrs\n",
    "            employee_of_month = employee\n",
    "        else:\n",
    "            pass\n",
    "    return (employee_of_month, hrs)"
   ]
  },
  {
   "cell_type": "code",
   "execution_count": 48,
   "id": "5f01dbce",
   "metadata": {},
   "outputs": [
    {
     "data": {
      "text/plain": [
       "('Paul', 500)"
      ]
     },
     "execution_count": 48,
     "metadata": {},
     "output_type": "execute_result"
    }
   ],
   "source": [
    "employee_check(work_hrs)"
   ]
  },
  {
   "cell_type": "code",
   "execution_count": 56,
   "id": "a9107d40",
   "metadata": {},
   "outputs": [
    {
     "name": "stdout",
     "output_type": "stream",
     "text": [
      "Pick a nmber: 0,1,2: 2\n",
      "Correct Answer\n"
     ]
    }
   ],
   "source": [
    "from random import shuffle\n",
    "\n",
    "def shuffle_list(my_list):\n",
    "    shuffle(my_list)\n",
    "    return my_list\n",
    "\n",
    "def player_guess():\n",
    "    \n",
    "    guess = ''    \n",
    "    while guess not in [\"0\",\"1\",\"2\"]:\n",
    "        guess = input(\"Pick a nmber: 0,1,2: \")\n",
    "        \n",
    "    return int(guess)\n",
    "\n",
    "def check_guess(my_list,guess):\n",
    "    if(my_list[guess] == \"o\"):\n",
    "        print(\"Correct Answer\")\n",
    "    else:\n",
    "        print(\"Wrong Guess!\")\n",
    "        print(my_list)\n",
    "        \n",
    "my_list = [\" \", \"o\", \" \"]\n",
    "\n",
    "mixed_list = shuffle_list(my_list)\n",
    "\n",
    "guess = player_guess()\n",
    "\n",
    "check_guess(mixed_list,guess)"
   ]
  },
  {
   "cell_type": "markdown",
   "id": "5f87545d",
   "metadata": {},
   "source": [
    "# Advanced Modules"
   ]
  },
  {
   "cell_type": "code",
   "execution_count": 57,
   "id": "fde06b24",
   "metadata": {},
   "outputs": [],
   "source": [
    "from collections import Counter"
   ]
  },
  {
   "cell_type": "code",
   "execution_count": 58,
   "id": "5838f0e6",
   "metadata": {},
   "outputs": [
    {
     "data": {
      "text/plain": [
       "Counter({1: 4, 2: 4, 3: 6})"
      ]
     },
     "execution_count": 58,
     "metadata": {},
     "output_type": "execute_result"
    }
   ],
   "source": [
    "my_list = [1,1,1,1,2,2,3,3,2,2,3,3,3,3]\n",
    "\n",
    "Counter(my_list)"
   ]
  },
  {
   "cell_type": "code",
   "execution_count": 59,
   "id": "0b7d4977",
   "metadata": {},
   "outputs": [],
   "source": [
    "my_list = ['a',1,1,2,2,5,5,'a','b','b']"
   ]
  },
  {
   "cell_type": "code",
   "execution_count": 60,
   "id": "18256469",
   "metadata": {},
   "outputs": [
    {
     "data": {
      "text/plain": [
       "Counter({'a': 2, 1: 2, 2: 2, 5: 2, 'b': 2})"
      ]
     },
     "execution_count": 60,
     "metadata": {},
     "output_type": "execute_result"
    }
   ],
   "source": [
    "Counter(my_list)"
   ]
  },
  {
   "cell_type": "code",
   "execution_count": 61,
   "id": "6f7637e7",
   "metadata": {},
   "outputs": [],
   "source": [
    "sentence = \"I want to know how many times words in the sentence occur\""
   ]
  },
  {
   "cell_type": "code",
   "execution_count": 62,
   "id": "ae74023a",
   "metadata": {},
   "outputs": [
    {
     "data": {
      "text/plain": [
       "['I',\n",
       " 'want',\n",
       " 'to',\n",
       " 'know',\n",
       " 'how',\n",
       " 'many',\n",
       " 'times',\n",
       " 'words',\n",
       " 'in',\n",
       " 'the',\n",
       " 'sentence',\n",
       " 'occur']"
      ]
     },
     "execution_count": 62,
     "metadata": {},
     "output_type": "execute_result"
    }
   ],
   "source": [
    "sentence.split()"
   ]
  },
  {
   "cell_type": "code",
   "execution_count": 63,
   "id": "1cee37e3",
   "metadata": {},
   "outputs": [
    {
     "data": {
      "text/plain": [
       "Counter({'I': 1,\n",
       "         'want': 1,\n",
       "         'to': 1,\n",
       "         'know': 1,\n",
       "         'how': 1,\n",
       "         'many': 1,\n",
       "         'times': 1,\n",
       "         'words': 1,\n",
       "         'in': 1,\n",
       "         'the': 1,\n",
       "         'sentence': 1,\n",
       "         'occur': 1})"
      ]
     },
     "execution_count": 63,
     "metadata": {},
     "output_type": "execute_result"
    }
   ],
   "source": [
    "Counter(sentence.split())"
   ]
  },
  {
   "cell_type": "markdown",
   "id": "7c1b4f01",
   "metadata": {},
   "source": [
    "# Opening and Reading Files and Folders"
   ]
  },
  {
   "cell_type": "code",
   "execution_count": 64,
   "id": "e2a61fa4",
   "metadata": {},
   "outputs": [
    {
     "data": {
      "text/plain": [
       "'C:\\\\Users\\\\HOME\\\\Desktop\\\\Python Practise\\\\Python Fundamentals'"
      ]
     },
     "execution_count": 64,
     "metadata": {},
     "output_type": "execute_result"
    }
   ],
   "source": [
    "pwd"
   ]
  },
  {
   "cell_type": "code",
   "execution_count": 66,
   "id": "58c341be",
   "metadata": {},
   "outputs": [
    {
     "name": "stdout",
     "output_type": "stream",
     "text": [
      "Writing practise.txt\n"
     ]
    }
   ],
   "source": [
    "%%writefile practise.txt\n",
    "This is a practise file"
   ]
  },
  {
   "cell_type": "code",
   "execution_count": 67,
   "id": "3009f328",
   "metadata": {},
   "outputs": [],
   "source": [
    "import os"
   ]
  },
  {
   "cell_type": "code",
   "execution_count": 68,
   "id": "32ddaeb0",
   "metadata": {},
   "outputs": [
    {
     "data": {
      "text/plain": [
       "'C:\\\\Users\\\\HOME\\\\Desktop\\\\Python Practise\\\\Python Fundamentals'"
      ]
     },
     "execution_count": 68,
     "metadata": {},
     "output_type": "execute_result"
    }
   ],
   "source": [
    "os.getcwd()"
   ]
  },
  {
   "cell_type": "code",
   "execution_count": 69,
   "id": "55ffdca5",
   "metadata": {},
   "outputs": [
    {
     "data": {
      "text/plain": [
       "['.ipynb_checkpoints',\n",
       " 'Methods and Functions.ipynb',\n",
       " 'myfile.txt',\n",
       " 'MyFirstPythonProgram.ipynb',\n",
       " 'MyPythonProgram.ipynb',\n",
       " 'my_new_another_file.txt',\n",
       " 'my_new_file.txt',\n",
       " 'OOP concept.ipynb',\n",
       " 'practise.txt',\n",
       " 'Python_control_Statements.ipynb']"
      ]
     },
     "execution_count": 69,
     "metadata": {},
     "output_type": "execute_result"
    }
   ],
   "source": [
    "os.listdir()"
   ]
  },
  {
   "cell_type": "code",
   "execution_count": 71,
   "id": "ec7a0ae0",
   "metadata": {},
   "outputs": [
    {
     "data": {
      "text/plain": [
       "['Bhagavad-gita Chant Series - Complete Version.mp4',\n",
       " 'desktop.ini',\n",
       " 'Discord.lnk',\n",
       " 'Python Practise',\n",
       " 'Sutheendran',\n",
       " 'Telegram - Shortcut.lnk',\n",
       " 'Telegram Desktop',\n",
       " 'Vishnu Sahasranamam - M.S.Subbulakshmi(480P).mp4']"
      ]
     },
     "execution_count": 71,
     "metadata": {},
     "output_type": "execute_result"
    }
   ],
   "source": [
    "os.listdir(\"C:\\\\Users\\\\HOME\\\\Desktop\")"
   ]
  },
  {
   "cell_type": "code",
   "execution_count": 72,
   "id": "5c6369bd",
   "metadata": {},
   "outputs": [],
   "source": [
    "import shutil"
   ]
  },
  {
   "cell_type": "code",
   "execution_count": 73,
   "id": "21ce6bc1",
   "metadata": {},
   "outputs": [
    {
     "data": {
      "text/plain": [
       "'C://Users//HOME//Desktop/Python Practise/practise.txt'"
      ]
     },
     "execution_count": 73,
     "metadata": {},
     "output_type": "execute_result"
    }
   ],
   "source": [
    "shutil.move(\"practise.txt\",\"C://Users//HOME//Desktop/Python Practise/\")"
   ]
  },
  {
   "cell_type": "code",
   "execution_count": 74,
   "id": "fd94851b",
   "metadata": {},
   "outputs": [
    {
     "data": {
      "text/plain": [
       "['.ipynb_checkpoints',\n",
       " 'Methods and Functions.ipynb',\n",
       " 'myfile.txt',\n",
       " 'MyFirstPythonProgram.ipynb',\n",
       " 'MyPythonProgram.ipynb',\n",
       " 'my_new_another_file.txt',\n",
       " 'my_new_file.txt',\n",
       " 'OOP concept.ipynb',\n",
       " 'Python_control_Statements.ipynb']"
      ]
     },
     "execution_count": 74,
     "metadata": {},
     "output_type": "execute_result"
    }
   ],
   "source": [
    "os.listdir()"
   ]
  },
  {
   "cell_type": "code",
   "execution_count": 75,
   "id": "607c4932",
   "metadata": {},
   "outputs": [],
   "source": [
    "import datetime"
   ]
  },
  {
   "cell_type": "code",
   "execution_count": 80,
   "id": "fe554c7e",
   "metadata": {},
   "outputs": [],
   "source": [
    "my_time = datetime.time(2,20)"
   ]
  },
  {
   "cell_type": "code",
   "execution_count": 82,
   "id": "878e269d",
   "metadata": {},
   "outputs": [
    {
     "data": {
      "text/plain": [
       "20"
      ]
     },
     "execution_count": 82,
     "metadata": {},
     "output_type": "execute_result"
    }
   ],
   "source": [
    "my_time.minute"
   ]
  },
  {
   "cell_type": "code",
   "execution_count": 84,
   "id": "b49bcb11",
   "metadata": {},
   "outputs": [
    {
     "data": {
      "text/plain": [
       "2"
      ]
     },
     "execution_count": 84,
     "metadata": {},
     "output_type": "execute_result"
    }
   ],
   "source": [
    "my_time.hour"
   ]
  },
  {
   "cell_type": "code",
   "execution_count": 86,
   "id": "7bc93cc6",
   "metadata": {},
   "outputs": [
    {
     "name": "stdout",
     "output_type": "stream",
     "text": [
      "02:20:00\n"
     ]
    }
   ],
   "source": [
    "print(my_time)"
   ]
  },
  {
   "cell_type": "code",
   "execution_count": 87,
   "id": "f2b8dd9a",
   "metadata": {},
   "outputs": [],
   "source": [
    "today = datetime.date.today()"
   ]
  },
  {
   "cell_type": "code",
   "execution_count": 88,
   "id": "b8d4c22f",
   "metadata": {},
   "outputs": [
    {
     "data": {
      "text/plain": [
       "datetime.date(2021, 12, 4)"
      ]
     },
     "execution_count": 88,
     "metadata": {},
     "output_type": "execute_result"
    }
   ],
   "source": [
    "today"
   ]
  },
  {
   "cell_type": "code",
   "execution_count": 89,
   "id": "d7c0404f",
   "metadata": {},
   "outputs": [
    {
     "name": "stdout",
     "output_type": "stream",
     "text": [
      "2021-12-04\n"
     ]
    }
   ],
   "source": [
    "print(today)"
   ]
  },
  {
   "cell_type": "code",
   "execution_count": null,
   "id": "a2814f86",
   "metadata": {},
   "outputs": [],
   "source": []
  }
 ],
 "metadata": {
  "kernelspec": {
   "display_name": "Python 3",
   "language": "python",
   "name": "python3"
  },
  "language_info": {
   "codemirror_mode": {
    "name": "ipython",
    "version": 3
   },
   "file_extension": ".py",
   "mimetype": "text/x-python",
   "name": "python",
   "nbconvert_exporter": "python",
   "pygments_lexer": "ipython3",
   "version": "3.8.8"
  }
 },
 "nbformat": 4,
 "nbformat_minor": 5
}
