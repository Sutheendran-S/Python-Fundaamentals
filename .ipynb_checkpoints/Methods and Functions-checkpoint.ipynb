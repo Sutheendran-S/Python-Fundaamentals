{
 "cells": [
  {
   "cell_type": "markdown",
   "id": "b9c70884",
   "metadata": {},
   "source": [
    "# Functions"
   ]
  },
  {
   "cell_type": "code",
   "execution_count": 5,
   "id": "039af150",
   "metadata": {},
   "outputs": [],
   "source": [
    "def say_hello():\n",
    "    '''\n",
    "    This is a multiline comment\n",
    "    '''\n",
    "    print(\"Hello\")\n",
    "    print(\"How are you?\")"
   ]
  },
  {
   "cell_type": "code",
   "execution_count": 6,
   "id": "56293c1c",
   "metadata": {},
   "outputs": [
    {
     "name": "stdout",
     "output_type": "stream",
     "text": [
      "Hello\n",
      "How are you?\n"
     ]
    }
   ],
   "source": [
    "say_hello()"
   ]
  },
  {
   "cell_type": "code",
   "execution_count": 8,
   "id": "5db60d44",
   "metadata": {},
   "outputs": [],
   "source": [
    "def say_hello(name):\n",
    "    print(f\"Hello {name}\")"
   ]
  },
  {
   "cell_type": "code",
   "execution_count": 9,
   "id": "d80a3ea7",
   "metadata": {},
   "outputs": [
    {
     "name": "stdout",
     "output_type": "stream",
     "text": [
      "Hello Sutheendran\n"
     ]
    }
   ],
   "source": [
    "say_hello(\"Sutheendran\")"
   ]
  },
  {
   "cell_type": "code",
   "execution_count": 10,
   "id": "b826494c",
   "metadata": {},
   "outputs": [],
   "source": [
    "def say_hello(name=\"Default\"):\n",
    "    print(f\"Hello {name}\")"
   ]
  },
  {
   "cell_type": "code",
   "execution_count": 12,
   "id": "045e588f",
   "metadata": {},
   "outputs": [
    {
     "name": "stdout",
     "output_type": "stream",
     "text": [
      "Hello Default\n"
     ]
    }
   ],
   "source": [
    "say_hello() # it will print default value when arguments is not provided"
   ]
  },
  {
   "cell_type": "code",
   "execution_count": 13,
   "id": "729dc78e",
   "metadata": {},
   "outputs": [],
   "source": [
    "def add_num(num1,num2):\n",
    "    return num1+num2"
   ]
  },
  {
   "cell_type": "code",
   "execution_count": 15,
   "id": "100a783a",
   "metadata": {},
   "outputs": [
    {
     "data": {
      "text/plain": [
       "55"
      ]
     },
     "execution_count": 15,
     "metadata": {},
     "output_type": "execute_result"
    }
   ],
   "source": [
    "add_num(25,30)"
   ]
  },
  {
   "cell_type": "code",
   "execution_count": 18,
   "id": "b6cb45b3",
   "metadata": {},
   "outputs": [],
   "source": [
    "def sum_result(a,b):\n",
    "    print(a+b) #This will just print the result and will not store the value"
   ]
  },
  {
   "cell_type": "code",
   "execution_count": 20,
   "id": "d0c6cdaa",
   "metadata": {},
   "outputs": [
    {
     "name": "stdout",
     "output_type": "stream",
     "text": [
      "30\n"
     ]
    }
   ],
   "source": [
    "result = sum_result(10,20)"
   ]
  },
  {
   "cell_type": "code",
   "execution_count": 22,
   "id": "47f15005",
   "metadata": {},
   "outputs": [],
   "source": [
    "result"
   ]
  },
  {
   "cell_type": "code",
   "execution_count": 23,
   "id": "cdcd46f0",
   "metadata": {},
   "outputs": [
    {
     "data": {
      "text/plain": [
       "NoneType"
      ]
     },
     "execution_count": 23,
     "metadata": {},
     "output_type": "execute_result"
    }
   ],
   "source": [
    "type(result)"
   ]
  },
  {
   "cell_type": "code",
   "execution_count": 24,
   "id": "ed2b3b83",
   "metadata": {},
   "outputs": [],
   "source": [
    "def return_result(a,b):\n",
    "    return a+b"
   ]
  },
  {
   "cell_type": "code",
   "execution_count": 25,
   "id": "8a5a9d79",
   "metadata": {},
   "outputs": [],
   "source": [
    "result = return_result(10,20)"
   ]
  },
  {
   "cell_type": "code",
   "execution_count": 26,
   "id": "f88561dd",
   "metadata": {},
   "outputs": [
    {
     "data": {
      "text/plain": [
       "30"
      ]
     },
     "execution_count": 26,
     "metadata": {},
     "output_type": "execute_result"
    }
   ],
   "source": [
    "result"
   ]
  },
  {
   "cell_type": "code",
   "execution_count": 27,
   "id": "58fc8d0f",
   "metadata": {},
   "outputs": [],
   "source": [
    "def sum_result(a,b):\n",
    "    print(a+b)\n",
    "    return a+b"
   ]
  },
  {
   "cell_type": "code",
   "execution_count": 28,
   "id": "9fc23f61",
   "metadata": {},
   "outputs": [
    {
     "name": "stdout",
     "output_type": "stream",
     "text": [
      "30\n"
     ]
    }
   ],
   "source": [
    "result = sum_result(10,20)"
   ]
  },
  {
   "cell_type": "code",
   "execution_count": 29,
   "id": "c4708469",
   "metadata": {},
   "outputs": [
    {
     "data": {
      "text/plain": [
       "30"
      ]
     },
     "execution_count": 29,
     "metadata": {},
     "output_type": "execute_result"
    }
   ],
   "source": [
    "result"
   ]
  },
  {
   "cell_type": "code",
   "execution_count": 30,
   "id": "1e8d995f",
   "metadata": {},
   "outputs": [],
   "source": [
    "def even_checking(num):\n",
    "    if (num % 2) == 0:\n",
    "        print(\"Number is even\")\n",
    "    else:\n",
    "        print(\"Number is odd\")"
   ]
  },
  {
   "cell_type": "code",
   "execution_count": 31,
   "id": "d0c7487f",
   "metadata": {},
   "outputs": [
    {
     "name": "stdout",
     "output_type": "stream",
     "text": [
      "Number is even\n"
     ]
    }
   ],
   "source": [
    "even_checking(2)"
   ]
  },
  {
   "cell_type": "code",
   "execution_count": 37,
   "id": "49038994",
   "metadata": {},
   "outputs": [],
   "source": [
    "def check_even_list():\n",
    "    my_list = [1,2,3,4,5,6,7,8,9]\n",
    "    for num in my_list:\n",
    "        if(num % 2 == 0):\n",
    "            print(\"Even\")\n",
    "        else:\n",
    "            print(\"Odd\")"
   ]
  },
  {
   "cell_type": "code",
   "execution_count": 38,
   "id": "06acaab2",
   "metadata": {},
   "outputs": [
    {
     "name": "stdout",
     "output_type": "stream",
     "text": [
      "Odd\n",
      "Even\n",
      "Odd\n",
      "Even\n",
      "Odd\n",
      "Even\n",
      "Odd\n",
      "Even\n",
      "Odd\n"
     ]
    }
   ],
   "source": [
    "check_even_list()"
   ]
  },
  {
   "cell_type": "code",
   "execution_count": 39,
   "id": "2e99886c",
   "metadata": {},
   "outputs": [],
   "source": [
    "def check_even(num_list):\n",
    "    for num in num_list:\n",
    "        if (num%2 == 0):\n",
    "            print(\"Even\")\n",
    "        else:\n",
    "            print(\"Odd\")"
   ]
  },
  {
   "cell_type": "code",
   "execution_count": 40,
   "id": "a1861961",
   "metadata": {},
   "outputs": [
    {
     "name": "stdout",
     "output_type": "stream",
     "text": [
      "Odd\n",
      "Even\n",
      "Odd\n",
      "Even\n",
      "Odd\n",
      "Even\n"
     ]
    }
   ],
   "source": [
    "check_even([1,2,3,4,5,6])"
   ]
  },
  {
   "cell_type": "code",
   "execution_count": 44,
   "id": "a7b4e7c6",
   "metadata": {},
   "outputs": [],
   "source": [
    "def check_even(num_list):\n",
    "    even_numbers= []\n",
    "    for num in num_list:\n",
    "        if (num%2 == 0):\n",
    "            even_numbers.append(num)\n",
    "        else:\n",
    "            pass\n",
    "    return even_numbers"
   ]
  },
  {
   "cell_type": "code",
   "execution_count": 45,
   "id": "8d5e5889",
   "metadata": {},
   "outputs": [
    {
     "data": {
      "text/plain": [
       "[2, 4, 6, 8]"
      ]
     },
     "execution_count": 45,
     "metadata": {},
     "output_type": "execute_result"
    }
   ],
   "source": [
    "check_even([1,2,3,4,5,6,7,8])"
   ]
  },
  {
   "cell_type": "code",
   "execution_count": 46,
   "id": "108fcb42",
   "metadata": {},
   "outputs": [],
   "source": [
    "work_hrs = [(\"John\", 200), (\"Smith\", 350), (\"Paul\", 500)]\n",
    "\n",
    "def employee_check(work_hrs):\n",
    "    \n",
    "    current_max = 0;\n",
    "    employee_of_month = ' '\n",
    "    \n",
    "    for employee, hrs in work_hrs:\n",
    "        if(hrs > current_max):\n",
    "            current_max = hrs\n",
    "            employee_of_month = employee\n",
    "        else:\n",
    "            pass\n",
    "    return (employee_of_month, hrs)"
   ]
  },
  {
   "cell_type": "code",
   "execution_count": 48,
   "id": "d14a3018",
   "metadata": {},
   "outputs": [
    {
     "data": {
      "text/plain": [
       "('Paul', 500)"
      ]
     },
     "execution_count": 48,
     "metadata": {},
     "output_type": "execute_result"
    }
   ],
   "source": [
    "employee_check(work_hrs)"
   ]
  },
  {
   "cell_type": "code",
   "execution_count": 54,
   "id": "10ce3d2b",
   "metadata": {},
   "outputs": [
    {
     "name": "stdout",
     "output_type": "stream",
     "text": [
      "Pick a nmber: 0,1,21\n",
      "Wrong Guess!\n",
      "[' ', ' ', 'o']\n"
     ]
    }
   ],
   "source": [
    "from random import shuffle\n",
    "\n",
    "def shuffle_list(my_list):\n",
    "    shuffle(my_list)\n",
    "    return my_list\n",
    "\n",
    "def player_guess():\n",
    "    \n",
    "    guess = ''    \n",
    "    while guess not in [\"0\",\"1\",\"2\"]:\n",
    "        guess = input(\"Pick a nmber: 0,1,2: \")\n",
    "        \n",
    "    return int(guess)\n",
    "\n",
    "def check_guess(my_list,guess):\n",
    "    if(my_list[guess] == \"o\"):\n",
    "        print(\"Correct Answer\")\n",
    "    else:\n",
    "        print(\"Wrong Guess!\")\n",
    "        print(my_list)\n",
    "        \n",
    "my_list = [\" \", \"o\", \" \"]\n",
    "\n",
    "mixed_list = shuffle_list(my_list)\n",
    "\n",
    "guess = player_guess()\n",
    "\n",
    "check_guess(mixed_list,guess)"
   ]
  },
  {
   "cell_type": "code",
   "execution_count": null,
   "id": "98d85e64",
   "metadata": {},
   "outputs": [],
   "source": []
  }
 ],
 "metadata": {
  "kernelspec": {
   "display_name": "Python 3",
   "language": "python",
   "name": "python3"
  },
  "language_info": {
   "codemirror_mode": {
    "name": "ipython",
    "version": 3
   },
   "file_extension": ".py",
   "mimetype": "text/x-python",
   "name": "python",
   "nbconvert_exporter": "python",
   "pygments_lexer": "ipython3",
   "version": "3.8.8"
  }
 },
 "nbformat": 4,
 "nbformat_minor": 5
}
