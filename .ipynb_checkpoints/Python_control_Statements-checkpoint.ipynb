{
 "cells": [
  {
   "cell_type": "markdown",
   "id": "99bf9f7a",
   "metadata": {},
   "source": [
    "# Python Control Statements"
   ]
  },
  {
   "cell_type": "markdown",
   "id": "2030b2e2",
   "metadata": {},
   "source": [
    "### if, else, if-elif"
   ]
  },
  {
   "cell_type": "code",
   "execution_count": 2,
   "id": "caba92c9",
   "metadata": {},
   "outputs": [],
   "source": [
    "#if condition:\n",
    "#    statement1\n",
    "#elif conditions:\n",
    "#    statement2\n",
    "#else:\n",
    "#    statement3"
   ]
  },
  {
   "cell_type": "code",
   "execution_count": 3,
   "id": "8015ae53",
   "metadata": {},
   "outputs": [
    {
     "name": "stdout",
     "output_type": "stream",
     "text": [
      "Hello!\n"
     ]
    }
   ],
   "source": [
    "if True:\n",
    "    print(\"Hello!\")\n",
    "else:\n",
    "    print(\"False\")"
   ]
  },
  {
   "cell_type": "code",
   "execution_count": 4,
   "id": "e5743d1c",
   "metadata": {},
   "outputs": [
    {
     "name": "stdout",
     "output_type": "stream",
     "text": [
      "Money is available in Bank\n"
     ]
    }
   ],
   "source": [
    "loc = \"Bank\"\n",
    "\n",
    "if (loc == \"Shop\"):\n",
    "    print(\"It is a Shop\")\n",
    "elif (loc == \"Bank\"):\n",
    "    print(\"Money is available in Bank\")\n",
    "else:\n",
    "    print(\"Sorry no data available for your search\")"
   ]
  },
  {
   "cell_type": "code",
   "execution_count": 7,
   "id": "7bff98f1",
   "metadata": {},
   "outputs": [
    {
     "name": "stdout",
     "output_type": "stream",
     "text": [
      "John is eligible for licence\n"
     ]
    }
   ],
   "source": [
    "name = \"John\"\n",
    "age = 18\n",
    "\n",
    "if(name == \"Smith\"):\n",
    "    if(age >= 18):\n",
    "        print(f\"{name} is eligible for licence\")\n",
    "    else:\n",
    "        print(f\"{name} is not old enough to get license\")\n",
    "elif(name == \"John\"):\n",
    "    if(age >= 18):\n",
    "        print(f\"{name} is eligible for licence\")\n",
    "    else:\n",
    "        print(f\"{name} is not old enough to get license\")\n",
    "else:\n",
    "    print(f\"Sorry no data available in the {name}\")"
   ]
  },
  {
   "cell_type": "markdown",
   "id": "38ff3788",
   "metadata": {},
   "source": [
    "### For Loops"
   ]
  },
  {
   "cell_type": "code",
   "execution_count": 12,
   "id": "f83d4a39",
   "metadata": {},
   "outputs": [
    {
     "name": "stdout",
     "output_type": "stream",
     "text": [
      "The items are: 1\n",
      "The items are: 5\n",
      "The items are: 3\n",
      "The items are: 6\n"
     ]
    }
   ],
   "source": [
    "my_list = [1,5,3,6]\n",
    "\n",
    "for items in my_list:\n",
    "    print(f\"The items are: {items}\")"
   ]
  },
  {
   "cell_type": "code",
   "execution_count": 13,
   "id": "2a6f4d05",
   "metadata": {},
   "outputs": [
    {
     "name": "stdout",
     "output_type": "stream",
     "text": [
      "Hello\n",
      "Hello\n",
      "Hello\n",
      "Hello\n"
     ]
    }
   ],
   "source": [
    "for items in my_list:\n",
    "    print(\"Hello\")"
   ]
  },
  {
   "cell_type": "code",
   "execution_count": 16,
   "id": "a4baeb2e",
   "metadata": {},
   "outputs": [
    {
     "name": "stdout",
     "output_type": "stream",
     "text": [
      "1 is Odd Number\n",
      "2 is an Even Number\n",
      "3 is Odd Number\n",
      "4 is an Even Number\n",
      "5 is Odd Number\n",
      "6 is an Even Number\n",
      "7 is Odd Number\n",
      "8 is an Even Number\n",
      "9 is Odd Number\n",
      "10 is an Even Number\n"
     ]
    }
   ],
   "source": [
    "my_list1 = [1,2,3,4,5,6,7,8,9,10]\n",
    "\n",
    "for num in my_list1:\n",
    "    if(num%2 == 0):\n",
    "        print(f\"{num} is an Even Number\")\n",
    "    else:\n",
    "        print(f\"{num} is Odd Number\")"
   ]
  },
  {
   "cell_type": "code",
   "execution_count": 18,
   "id": "0d61f5f0",
   "metadata": {},
   "outputs": [
    {
     "name": "stdout",
     "output_type": "stream",
     "text": [
      "55\n"
     ]
    }
   ],
   "source": [
    "list_sum = 0\n",
    "\n",
    "for sum in my_list1:\n",
    "    list_sum = list_sum + sum\n",
    "\n",
    "print(list_sum)"
   ]
  },
  {
   "cell_type": "code",
   "execution_count": 19,
   "id": "c6c9133a",
   "metadata": {},
   "outputs": [
    {
     "name": "stdout",
     "output_type": "stream",
     "text": [
      "H\n",
      "e\n",
      "l\n",
      "l\n",
      "o\n",
      " \n",
      "W\n",
      "o\n",
      "r\n",
      "l\n",
      "d\n",
      "!\n"
     ]
    }
   ],
   "source": [
    "my_string = \"Hello World!\"\n",
    "\n",
    "for letter in my_string:\n",
    "    print(letter)"
   ]
  },
  {
   "cell_type": "code",
   "execution_count": 20,
   "id": "b1ec3134",
   "metadata": {},
   "outputs": [
    {
     "name": "stdout",
     "output_type": "stream",
     "text": [
      "Hello\n",
      "Hello\n",
      "Hello\n",
      "Hello\n",
      "Hello\n",
      "Hello\n",
      "Hello\n",
      "Hello\n",
      "Hello\n",
      "Hello\n",
      "Hello\n",
      "Hello\n"
     ]
    }
   ],
   "source": [
    "for _ in my_string: #if we are not using iterable object then we can use \"_\"\n",
    "    print(\"Hello\")"
   ]
  },
  {
   "cell_type": "code",
   "execution_count": 21,
   "id": "8a3b3a98",
   "metadata": {},
   "outputs": [
    {
     "name": "stdout",
     "output_type": "stream",
     "text": [
      "1\n",
      "2\n",
      "3\n"
     ]
    }
   ],
   "source": [
    "tup = (1,2,3)\n",
    "\n",
    "for items in tup:\n",
    "    print(items)"
   ]
  },
  {
   "cell_type": "code",
   "execution_count": 22,
   "id": "8a4c3bb3",
   "metadata": {},
   "outputs": [
    {
     "name": "stdout",
     "output_type": "stream",
     "text": [
      "(1, 2)\n",
      "(3, 4)\n",
      "(5, 6)\n"
     ]
    }
   ],
   "source": [
    "my_tup = [(1,2), (3,4), (5,6)]\n",
    "\n",
    "for items in my_tup:\n",
    "    print(items)"
   ]
  },
  {
   "cell_type": "code",
   "execution_count": 23,
   "id": "289ca5a3",
   "metadata": {},
   "outputs": [
    {
     "name": "stdout",
     "output_type": "stream",
     "text": [
      "1 2\n",
      "3 4\n",
      "5 6\n"
     ]
    }
   ],
   "source": [
    "for (a,b) in my_tup:\n",
    "    print(a , b)"
   ]
  },
  {
   "cell_type": "code",
   "execution_count": 24,
   "id": "11065429",
   "metadata": {},
   "outputs": [
    {
     "name": "stdout",
     "output_type": "stream",
     "text": [
      "('k1', 1)\n",
      "('k2', 2)\n",
      "('k3', 3)\n"
     ]
    }
   ],
   "source": [
    "my_dict = {\"k1\": 1, \"k2\": 2, \"k3\": 3}\n",
    "\n",
    "for items in my_dict.items():\n",
    "    print(items)"
   ]
  },
  {
   "cell_type": "code",
   "execution_count": 27,
   "id": "821e7937",
   "metadata": {},
   "outputs": [
    {
     "name": "stdout",
     "output_type": "stream",
     "text": [
      "k1\n",
      "1\n",
      "k2\n",
      "2\n",
      "k3\n",
      "3\n"
     ]
    }
   ],
   "source": [
    "for (key,value) in my_dict.items():\n",
    "    print(key)\n",
    "    print(value)"
   ]
  },
  {
   "cell_type": "markdown",
   "id": "b3936925",
   "metadata": {},
   "source": [
    "# While Loops"
   ]
  },
  {
   "cell_type": "code",
   "execution_count": 28,
   "id": "65834ee8",
   "metadata": {},
   "outputs": [
    {
     "name": "stdout",
     "output_type": "stream",
     "text": [
      "0\n",
      "1\n",
      "2\n",
      "3\n",
      "4\n"
     ]
    }
   ],
   "source": [
    "x = 0\n",
    "\n",
    "while (x < 5):\n",
    "    print(x)\n",
    "    x = x+1\n",
    "    #x += 1"
   ]
  },
  {
   "cell_type": "code",
   "execution_count": null,
   "id": "e5aededb",
   "metadata": {},
   "outputs": [],
   "source": []
  }
 ],
 "metadata": {
  "kernelspec": {
   "display_name": "Python 3",
   "language": "python",
   "name": "python3"
  },
  "language_info": {
   "codemirror_mode": {
    "name": "ipython",
    "version": 3
   },
   "file_extension": ".py",
   "mimetype": "text/x-python",
   "name": "python",
   "nbconvert_exporter": "python",
   "pygments_lexer": "ipython3",
   "version": "3.8.8"
  }
 },
 "nbformat": 4,
 "nbformat_minor": 5
}
