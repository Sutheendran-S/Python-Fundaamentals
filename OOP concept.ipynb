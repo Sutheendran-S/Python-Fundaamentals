{
 "cells": [
  {
   "cell_type": "code",
   "execution_count": 10,
   "metadata": {},
   "outputs": [
    {
     "name": "stdout",
     "output_type": "stream",
     "text": [
      "<__main__.Employee object at 0x000002745AB7ADF0>\n",
      "<__main__.Employee object at 0x000002745AB7ABE0>\n"
     ]
    }
   ],
   "source": [
    "class Employee:\n",
    "    pass\n",
    "\n",
    "\"\"\"\n",
    "This is a multi\n",
    "line comment\n",
    "\"\"\"\n",
    "\n",
    "emp_1 = Employee();\n",
    "emp_2 = Employee();\n",
    "\n",
    "print(emp_1);\n",
    "print(emp_2);"
   ]
  },
  {
   "cell_type": "code",
   "execution_count": 9,
   "metadata": {},
   "outputs": [
    {
     "name": "stdout",
     "output_type": "stream",
     "text": [
      "Sutheendran\n",
      "Prasanna\n"
     ]
    }
   ],
   "source": [
    "class Employee:\n",
    "    pass\n",
    "\n",
    "emp_1 = Employee();\n",
    "emp_2 = Employee();\n",
    "\n",
    "emp_1.first = \"Sutheendran\" # we manually passing the values for the attributes\n",
    "emp_1.last = \"Prasanna\"\n",
    "emp_1.pay = 50000\n",
    "\n",
    "emp_2.first = \"Vikram\"\n",
    "emp_2.last = \"Shrevas\"\n",
    "emp_2.pay = 60000\n",
    "\n",
    "print(emp_1.first);\n",
    "print(emp_1.last);"
   ]
  },
  {
   "cell_type": "code",
   "execution_count": 8,
   "metadata": {},
   "outputs": [
    {
     "name": "stdout",
     "output_type": "stream",
     "text": [
      "Sutheendran.Prasanna@gmail.com\n",
      "Vikram.Shrevas@gmail.com\n"
     ]
    }
   ],
   "source": [
    "class Employee:\n",
    "    def __init__(self,first,last,pay): #this is a constructor which will be called when instance is created\n",
    "        self.first = first; #these are called as attributes\n",
    "        self.last = last;\n",
    "        self.pay = pay;\n",
    "        self.email = first + '.' + last + '@gmail.com';\n",
    "        \n",
    "emp_1 = Employee('Sutheendran', 'Prasanna', 50000); #instance of the class\n",
    "emp_2 = Employee('Vikram', 'Shrevas', 60000);\n",
    "\n",
    "print(emp_1.email);\n",
    "print(emp_2.email);"
   ]
  },
  {
   "cell_type": "code",
   "execution_count": 12,
   "metadata": {},
   "outputs": [
    {
     "name": "stdout",
     "output_type": "stream",
     "text": [
      "Sutheendran Prasanna\n"
     ]
    }
   ],
   "source": [
    "class Employee:\n",
    "    def __init__(self,first,last,pay): #this is a constructor which will be called when instance is created\n",
    "        self.first = first; #these are called as attributes\n",
    "        self.last = last;\n",
    "        self.pay = pay;\n",
    "        self.email = first + '.' + last + '@gmail.com';\n",
    "        \n",
    "emp_1 = Employee('Sutheendran', 'Prasanna', 50000); #instance of the class\n",
    "emp_2 = Employee('Vikram', 'Shrevas', 60000);\n",
    "\n",
    "#print(emp_1.email);\n",
    "#print(emp_2.email);\n",
    "\n",
    "print(\"{} {}\".format(emp_1.first, emp_1.last)); #we can get first and last name but it is hard to do everytime"
   ]
  },
  {
   "cell_type": "code",
   "execution_count": 17,
   "metadata": {},
   "outputs": [
    {
     "name": "stdout",
     "output_type": "stream",
     "text": [
      "Sutheendran Prasanna\n"
     ]
    }
   ],
   "source": [
    "class Employee:\n",
    "    def __init__(self,first,last,pay): #this is a constructor which will be called when instance is created\n",
    "        self.first = first; #these are called as attributes\n",
    "        self.last = last;\n",
    "        self.pay = pay;\n",
    "        self.email = first + '.' + last + '@gmail.com';\n",
    "        \n",
    "    def fullname(self):\n",
    "        return \"{} {}\".format(self.first, self.last)\n",
    "        \n",
    "emp_1 = Employee('Sutheendran', 'Prasanna', 50000); #instance of the class\n",
    "emp_2 = Employee('Vikram', 'Shrevas', 60000);\n",
    "\n",
    "#print(emp_1.email);\n",
    "#print(emp_2.email);\n",
    "\n",
    "print(Employee.fullname(emp_1)) # this is similar to saying emp_1.fullname()\n",
    "#print(emp_1.fullname()) # this can be used again and again for all the instances of class\n",
    "#print(emp_2.fullname())"
   ]
  },
  {
   "cell_type": "code",
   "execution_count": 19,
   "metadata": {},
   "outputs": [
    {
     "name": "stdout",
     "output_type": "stream",
     "text": [
      "1.04\n",
      "1.04\n",
      "1.04\n"
     ]
    }
   ],
   "source": [
    "class Employee:\n",
    "    \n",
    "    raise_amount = 1.04\n",
    "    \n",
    "    def __init__(self,first,last,pay): #this is a constructor which will be called when instance is created\n",
    "        self.first = first; #these are called as attributes\n",
    "        self.last = last;\n",
    "        self.pay = pay;\n",
    "        self.email = first + '.' + last + '@gmail.com';\n",
    "        \n",
    "    def fullname(self):\n",
    "        return \"{} {}\".format(self.first, self.last)\n",
    "    \n",
    "    def apply_raise(self):\n",
    "        self.pay = int(self.pay * self.raise_amount);\n",
    "        \n",
    "emp_1 = Employee('Sutheendran', 'Prasanna', 50000); #instance of the class\n",
    "emp_2 = Employee('Vikram', 'Shrevas', 60000);\n",
    "\n",
    "print(Employee.raise_amount);\n",
    "print(emp_1.raise_amount);\n",
    "print(emp_2.raise_amount);"
   ]
  },
  {
   "cell_type": "code",
   "execution_count": 20,
   "metadata": {},
   "outputs": [
    {
     "name": "stdout",
     "output_type": "stream",
     "text": [
      "{'first': 'Sutheendran', 'last': 'Prasanna', 'pay': 50000, 'email': 'Sutheendran.Prasanna@gmail.com'}\n"
     ]
    }
   ],
   "source": [
    "print(emp_1.__dict__)"
   ]
  },
  {
   "cell_type": "code",
   "execution_count": 21,
   "metadata": {},
   "outputs": [
    {
     "name": "stdout",
     "output_type": "stream",
     "text": [
      "{'__module__': '__main__', 'raise_amount': 1.04, '__init__': <function Employee.__init__ at 0x000002745AEBC670>, 'fullname': <function Employee.fullname at 0x000002745AEBCCA0>, 'apply_raise': <function Employee.apply_raise at 0x000002745AEBC0D0>, '__dict__': <attribute '__dict__' of 'Employee' objects>, '__weakref__': <attribute '__weakref__' of 'Employee' objects>, '__doc__': None}\n"
     ]
    }
   ],
   "source": [
    "print(Employee.__dict__)"
   ]
  },
  {
   "cell_type": "code",
   "execution_count": 28,
   "metadata": {},
   "outputs": [
    {
     "name": "stdout",
     "output_type": "stream",
     "text": [
      "0\n",
      "1.04\n",
      "1.05\n",
      "1.04\n",
      "2\n"
     ]
    }
   ],
   "source": [
    "class Employee:\n",
    "    \n",
    "    num_of_emps = 0;\n",
    "    raise_amount = 1.04\n",
    "    \n",
    "    def __init__(self,first,last,pay): #this is a constructor which will be called when instance is created\n",
    "        self.first = first; #these are called as attributes\n",
    "        self.last = last;\n",
    "        self.pay = pay;\n",
    "        self.email = first + '.' + last + '@gmail.com';\n",
    "        \n",
    "        Employee.num_of_emps += 1\n",
    "        \n",
    "    def fullname(self):\n",
    "        return \"{} {}\".format(self.first, self.last)\n",
    "    \n",
    "    def apply_raise(self):\n",
    "        self.pay = int(self.pay * self.raise_amount);\n",
    "\n",
    "print(Employee.num_of_emps);\n",
    "        \n",
    "emp_1 = Employee('Sutheendran', 'Prasanna', 50000); #instance of the class\n",
    "emp_2 = Employee('Vikram', 'Shrevas', 60000);\n",
    "\n",
    "#Employee.raise_amount = 1.05;\n",
    "emp_1.raise_amount = 1.05;\n",
    "\n",
    "print(Employee.raise_amount);\n",
    "print(emp_1.raise_amount);\n",
    "print(emp_2.raise_amount);\n",
    "\n",
    "print(Employee.num_of_emps);"
   ]
  },
  {
   "cell_type": "code",
   "execution_count": 24,
   "metadata": {},
   "outputs": [
    {
     "name": "stdout",
     "output_type": "stream",
     "text": [
      "{'first': 'Sutheendran', 'last': 'Prasanna', 'pay': 50000, 'email': 'Sutheendran.Prasanna@gmail.com', 'raise_amount': 1.05}\n"
     ]
    }
   ],
   "source": [
    "print(emp_1.__dict__);"
   ]
  },
  {
   "cell_type": "code",
   "execution_count": 30,
   "metadata": {},
   "outputs": [
    {
     "name": "stdout",
     "output_type": "stream",
     "text": [
      "1.05\n",
      "1.05\n",
      "1.05\n"
     ]
    }
   ],
   "source": [
    "class Employee:\n",
    "    \n",
    "    num_of_emps = 0;\n",
    "    raise_amount = 1.04\n",
    "    \n",
    "    def __init__(self,first,last,pay): #this is a constructor which will be called when instance is created\n",
    "        self.first = first; #these are called as attributes\n",
    "        self.last = last;\n",
    "        self.pay = pay;\n",
    "        self.email = first + '.' + last + '@gmail.com';\n",
    "        \n",
    "        Employee.num_of_emps += 1\n",
    "        \n",
    "    def fullname(self):\n",
    "        return \"{} {}\".format(self.first, self.last)\n",
    "    \n",
    "    def apply_raise(self):\n",
    "        self.pay = int(self.pay * self.raise_amount);\n",
    "        \n",
    "    @classmethod\n",
    "    def set_rate_amount(cls,amount):\n",
    "        cls.raise_amount = amount\n",
    "        \n",
    "emp_1 = Employee('Sutheendran', 'Prasanna', 50000); #instance of the class\n",
    "emp_2 = Employee('Vikram', 'Shrevas', 60000);\n",
    "\n",
    "#Employee.set_rate_amount(1.05)\n",
    "emp_1.set_rate_amount(1.05)\n",
    "\n",
    "print(Employee.raise_amount);\n",
    "print(emp_1.raise_amount);\n",
    "print(emp_2.raise_amount);\n",
    "\n"
   ]
  },
  {
   "cell_type": "code",
   "execution_count": null,
   "metadata": {},
   "outputs": [],
   "source": []
  }
 ],
 "metadata": {
  "kernelspec": {
   "display_name": "Python 3",
   "language": "python",
   "name": "python3"
  },
  "language_info": {
   "codemirror_mode": {
    "name": "ipython",
    "version": 3
   },
   "file_extension": ".py",
   "mimetype": "text/x-python",
   "name": "python",
   "nbconvert_exporter": "python",
   "pygments_lexer": "ipython3",
   "version": "3.8.3"
  }
 },
 "nbformat": 4,
 "nbformat_minor": 4
}
